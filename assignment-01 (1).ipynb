{
 "cells": [
  {
   "cell_type": "code",
   "execution_count": null,
   "id": "a5ee4a5a-c051-42e5-8e5d-f9e826b9b0ab",
   "metadata": {},
   "outputs": [],
   "source": [
    "no=int(input(\"Enter the roll number:\"))\n",
    "na=input(\"Enetr the student name:\")\n",
    "sub_count=int(input(\"enter the count of subject:\"))\n",
    "mark1=[]\n",
    "\n",
    "print(\"-----------------------\")\n",
    "for i in range(sub_count):\n",
    "    m1 = input(\"Enter subject name:\")\n",
    "    mark=mark1.append(int(input(\"Enter subject mark:\")))\n",
    "def cal():\n",
    "    avg = sum(mark1)\n",
    "    div=avg/sub_count\n",
    "    print(avg)\n",
    "    print(div)\n",
    "    if div>= 80:\n",
    "        print (\"Grade: A\")\n",
    "    elif div>= 70 and div<80: \n",
    "        print (\"Grade: B\") \n",
    "    elif div>= 60 and div<70: \n",
    "        print (\"Grade: C\") \n",
    "    elif div>= 50 and div<60:\n",
    "        print (\"Grade: D\")\n",
    "    else:\n",
    "        print (\"Grade: E\")\n",
    "        print(\"Fail\")\n",
    "print(cal())"
   ]
  }
 ],
 "metadata": {
  "kernelspec": {
   "display_name": "Python 3 (ipykernel)",
   "language": "python",
   "name": "python3"
  },
  "language_info": {
   "codemirror_mode": {
    "name": "ipython",
    "version": 3
   },
   "file_extension": ".py",
   "mimetype": "text/x-python",
   "name": "python",
   "nbconvert_exporter": "python",
   "pygments_lexer": "ipython3",
   "version": "3.10.13"
  }
 },
 "nbformat": 4,
 "nbformat_minor": 5
}
